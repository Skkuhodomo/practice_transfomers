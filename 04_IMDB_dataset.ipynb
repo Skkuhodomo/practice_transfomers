{
  "nbformat": 4,
  "nbformat_minor": 0,
  "metadata": {
    "colab": {
      "provenance": [],
      "gpuType": "T4",
      "authorship_tag": "ABX9TyNvrDqg0HDjy7ZtTv4z48Ai"
    },
    "kernelspec": {
      "name": "python3",
      "display_name": "Python 3"
    },
    "language_info": {
      "name": "python"
    },
    "accelerator": "GPU"
  },
  "cells": [
    {
      "cell_type": "markdown",
      "source": [
        "# 02장 DistillBERT 파인튜닝 및 평가\n",
        "## 문제04 IMDB 데이터세트\n",
        "\n",
        "목표 : 영화 리뷰의 긍/부정 감성 분석을 위한 데이터 저장\n",
        "\n"
      ],
      "metadata": {
        "id": "Jl-CI8hg5aol"
      }
    },
    {
      "cell_type": "code",
      "execution_count": null,
      "metadata": {
        "id": "Km1nxjhC5I5s"
      },
      "outputs": [],
      "source": [
        "!pip install torchtext==0.15.2\n",
        "!pip install portalocker==2.7.0\n",
        "!pip install accelerate -U"
      ]
    },
    {
      "cell_type": "code",
      "source": [
        "from torchtext.datasets import IMDB\n",
        "\n",
        "train_iter  = IMDB(split='train')\n",
        "test_iter = IMDB(split = 'test')\n"
      ],
      "metadata": {
        "id": "rLSZjTJZ6d7M"
      },
      "execution_count": 2,
      "outputs": []
    },
    {
      "cell_type": "code",
      "source": [
        "import random\n",
        "random.seed(6)\n",
        "\n",
        "train_lists = list(train_iter)\n",
        "test_lists = list(test_iter)\n",
        "\n",
        "train_lists_small = random.sample(train_lists, 1000)\n",
        "test_lists_small = random.sample(test_lists, 1000)\n",
        "\n",
        "print(train_lists_small[0])\n",
        "print(test_lists_small[0])"
      ],
      "metadata": {
        "colab": {
          "base_uri": "https://localhost:8080/"
        },
        "id": "vWpBBoLFuTKl",
        "outputId": "5711b588-7d56-4048-e021-44a81b80c373"
      },
      "execution_count": 3,
      "outputs": [
        {
          "output_type": "stream",
          "name": "stdout",
          "text": [
            "(2, \"I LOVED this movie! I am biased seeing as I am a huge Disney fan, but I really enjoyed myself. The action takes off running in the beginning of the film and just keeps going! This is a bit of a departure for Disney, they don't spend quite as much time on character development (my husband pointed this out)and there are no musical numbers. It is strictly action adventure. I thoroughly enjoyed it and recommend it to anyone who loves Disney, be they young or old.\")\n",
            "(1, 'This was an abysmal show. In short it was about this kid called Doug who guilt-tripped a lot. Seriously he could feel guilty over killing a fly then feeling guilty over feeling guilty for killing the fly and so forth. The animation was grating and unpleasant and the jokes cheap. <br /><br />It aired here in Sweden as a part of the \"Disney time\" show and i remember liking it some what but then i turned 13.<br /><br />I never got why some of the characters were green and purple too. What was up with that? <br /><br />Truly a horrible show. Appareantly it spawned a movie which i\\'ve never seen but i don\\'t have any great expectations for that one either.')\n"
          ]
        }
      ]
    }
  ]
}