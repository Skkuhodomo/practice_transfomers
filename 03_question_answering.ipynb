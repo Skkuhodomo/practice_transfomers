{
  "nbformat": 4,
  "nbformat_minor": 0,
  "metadata": {
    "colab": {
      "provenance": [],
      "authorship_tag": "ABX9TyPBfUximvKRs2/yh6Cq5sJ5"
    },
    "kernelspec": {
      "name": "python3",
      "display_name": "Python 3"
    },
    "language_info": {
      "name": "python"
    }
  },
  "cells": [
    {
      "cell_type": "markdown",
      "source": [
        "# 01장 파이프라인\n",
        "## 문제03 질의 응답\n",
        "\n",
        "목표 : 주어진 자료를 바탕으로 질문에 응답.\n",
        "\n",
        "\n",
        "\n",
        "설계: 트랜스포머스 라이브러리의 question-answering 활용.\n"
      ],
      "metadata": {
        "id": "Jl-CI8hg5aol"
      }
    },
    {
      "cell_type": "code",
      "execution_count": 3,
      "metadata": {
        "colab": {
          "base_uri": "https://localhost:8080/"
        },
        "id": "Km1nxjhC5I5s",
        "outputId": "c6398826-8028-44ad-8aa1-3b82430979dd"
      },
      "outputs": [
        {
          "output_type": "stream",
          "name": "stderr",
          "text": [
            "No model was supplied, defaulted to distilbert/distilbert-base-cased-distilled-squad and revision 626af31 (https://huggingface.co/distilbert/distilbert-base-cased-distilled-squad).\n",
            "Using a pipeline without specifying a model name and revision in production is not recommended.\n"
          ]
        }
      ],
      "source": [
        "from transformers import pipeline\n",
        "qa = pipeline('question-answering')"
      ]
    },
    {
      "cell_type": "code",
      "source": [
        "qa.model"
      ],
      "metadata": {
        "colab": {
          "base_uri": "https://localhost:8080/"
        },
        "id": "rLSZjTJZ6d7M",
        "outputId": "a274f021-709a-41a7-bc03-1653df2cb465"
      },
      "execution_count": 4,
      "outputs": [
        {
          "output_type": "execute_result",
          "data": {
            "text/plain": [
              "DistilBertForQuestionAnswering(\n",
              "  (distilbert): DistilBertModel(\n",
              "    (embeddings): Embeddings(\n",
              "      (word_embeddings): Embedding(28996, 768, padding_idx=0)\n",
              "      (position_embeddings): Embedding(512, 768)\n",
              "      (LayerNorm): LayerNorm((768,), eps=1e-12, elementwise_affine=True)\n",
              "      (dropout): Dropout(p=0.1, inplace=False)\n",
              "    )\n",
              "    (transformer): Transformer(\n",
              "      (layer): ModuleList(\n",
              "        (0-5): 6 x TransformerBlock(\n",
              "          (attention): MultiHeadSelfAttention(\n",
              "            (dropout): Dropout(p=0.1, inplace=False)\n",
              "            (q_lin): Linear(in_features=768, out_features=768, bias=True)\n",
              "            (k_lin): Linear(in_features=768, out_features=768, bias=True)\n",
              "            (v_lin): Linear(in_features=768, out_features=768, bias=True)\n",
              "            (out_lin): Linear(in_features=768, out_features=768, bias=True)\n",
              "          )\n",
              "          (sa_layer_norm): LayerNorm((768,), eps=1e-12, elementwise_affine=True)\n",
              "          (ffn): FFN(\n",
              "            (dropout): Dropout(p=0.1, inplace=False)\n",
              "            (lin1): Linear(in_features=768, out_features=3072, bias=True)\n",
              "            (lin2): Linear(in_features=3072, out_features=768, bias=True)\n",
              "            (activation): GELUActivation()\n",
              "          )\n",
              "          (output_layer_norm): LayerNorm((768,), eps=1e-12, elementwise_affine=True)\n",
              "        )\n",
              "      )\n",
              "    )\n",
              "  )\n",
              "  (qa_outputs): Linear(in_features=768, out_features=2, bias=True)\n",
              "  (dropout): Dropout(p=0.1, inplace=False)\n",
              ")"
            ]
          },
          "metadata": {},
          "execution_count": 4
        }
      ]
    },
    {
      "cell_type": "markdown",
      "source": [
        "DistilBertModel을 가져온 것을 확인할 수 있습니다."
      ],
      "metadata": {
        "id": "pqI7m6p5tcHX"
      }
    },
    {
      "cell_type": "code",
      "source": [
        "context = \"\"\"\n",
        "Many are shedding tears for a beloved reason - pandas embarking on a journey.\n",
        "\n",
        "Recently, one of the world's beloved pandas set off on a journey. This panda, cherished by many for its cute appearance and unique ecological significance, has stirred emotions as it bids farewell to its current habitat.\n",
        "\n",
        "The news of the panda's journey holds profound significance. Pandas serve as symbolic creatures reminding us of the beauty and diversity of nature while emphasizing the importance of conservation efforts. Their departure serves as a poignant reminder of the preciousness of Earth's ecosystems and the urgency of protecting them.\n",
        "\n",
        "This event underscores the need for intensified environmental conservation efforts and heightened focus on protecting endangered species. The pandas' journey serves as a call to action, urging us to recommit ourselves to the preservation of our planet's natural wonders.\n",
        "\n",
        "\"\"\"\n",
        "# chatGPT created."
      ],
      "metadata": {
        "id": "Rppy2uLg6k90"
      },
      "execution_count": 6,
      "outputs": []
    },
    {
      "cell_type": "code",
      "source": [
        "print(qa(question= \"Who makes people cry?\", context = context ))"
      ],
      "metadata": {
        "colab": {
          "base_uri": "https://localhost:8080/"
        },
        "id": "vWpBBoLFuTKl",
        "outputId": "d033d2b4-8750-4f20-e044-159e18b22981"
      },
      "execution_count": 9,
      "outputs": [
        {
          "output_type": "stream",
          "name": "stdout",
          "text": [
            "{'score': 0.7100979685783386, 'start': 48, 'end': 54, 'answer': 'pandas'}\n"
          ]
        }
      ]
    }
  ]
}